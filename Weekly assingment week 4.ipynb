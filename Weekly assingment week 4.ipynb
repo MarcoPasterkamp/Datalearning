{
 "cells": [
  {
   "cell_type": "markdown",
   "metadata": {},
   "source": [
    "# Weekly assingment "
   ]
  },
  {
   "cell_type": "markdown",
   "metadata": {},
   "source": [
    "###### Stap 1: Data verzamelen \n",
    "Ik gebruik de fifa data set omdat ik van voetbal hou en ik in mn leven al meer dan 4000 uur in fifa heb gestoken. Dus waarom dan niet nog wat extra tijd er in steken. \n",
    "\n",
    "Eerst heb ik de data set ingeladen en de 6 variabelen gekozen. Daarna heb ik de preferred Positions opgeslitst zodat ik alleen de eerste positie overhoud. Ook heb ik de spelers verwijdert die een rating change hebben gekregen door het jaar.Dit heb ik handmatig gedaan wist niet meer hoe het moest zou hier graag feedback op willen.\n",
    "\n",
    "De variabelen die ik heb gekozen zijn gekozen om een hoge accuracy te halen bij het voorspellen van de positie. \n",
    "\n",
    "Overall = De rating van een speler, het is zo dat aanvallers vaak hoger rated zijn dan verdedigers.\n",
    "Finishing = Als het goed is kunnen aanvallende spelers goed afmaken\n",
    "Marking = Dit is man dekken en dit kunnen verdedigers goed\n",
    "Long passing = Dit zijn meestal middevelders of verdedigende spelers\n",
    "Gk diving = Iets wat alleen goalkeepers hoog hebben\n",
    "Shot power = Iets wat aanvallende spelers hebben. \n",
    "\n",
    "Daarna heb ik de bovenste vijf rijen van de dataset weergegeven "
   ]
  },
  {
   "cell_type": "code",
   "execution_count": 6,
   "metadata": {
    "scrolled": true
   },
   "outputs": [
    {
     "name": "stderr",
     "output_type": "stream",
     "text": [
      "C:\\Users\\Marco\\anaconda3\\lib\\site-packages\\IPython\\core\\interactiveshell.py:3146: DtypeWarning: Columns (23,35) have mixed types.Specify dtype option on import or set low_memory=False.\n",
      "  has_raised = await self.run_ast_nodes(code_ast.body, cell_name,\n"
     ]
    },
    {
     "data": {
      "text/html": [
       "<div>\n",
       "<style scoped>\n",
       "    .dataframe tbody tr th:only-of-type {\n",
       "        vertical-align: middle;\n",
       "    }\n",
       "\n",
       "    .dataframe tbody tr th {\n",
       "        vertical-align: top;\n",
       "    }\n",
       "\n",
       "    .dataframe thead th {\n",
       "        text-align: right;\n",
       "    }\n",
       "</style>\n",
       "<table border=\"1\" class=\"dataframe\">\n",
       "  <thead>\n",
       "    <tr style=\"text-align: right;\">\n",
       "      <th></th>\n",
       "      <th>Name</th>\n",
       "      <th>Club</th>\n",
       "      <th>Overall</th>\n",
       "      <th>Finishing</th>\n",
       "      <th>Marking</th>\n",
       "      <th>Long passing</th>\n",
       "      <th>GK diving</th>\n",
       "      <th>Shot power</th>\n",
       "      <th>Preferred Positions</th>\n",
       "    </tr>\n",
       "  </thead>\n",
       "  <tbody>\n",
       "    <tr>\n",
       "      <th>0</th>\n",
       "      <td>Cristiano Ronaldo</td>\n",
       "      <td>Real Madrid CF</td>\n",
       "      <td>94</td>\n",
       "      <td>94</td>\n",
       "      <td>22</td>\n",
       "      <td>77</td>\n",
       "      <td>7</td>\n",
       "      <td>94</td>\n",
       "      <td>ST</td>\n",
       "    </tr>\n",
       "    <tr>\n",
       "      <th>1</th>\n",
       "      <td>L. Messi</td>\n",
       "      <td>FC Barcelona</td>\n",
       "      <td>93</td>\n",
       "      <td>95</td>\n",
       "      <td>13</td>\n",
       "      <td>87</td>\n",
       "      <td>6</td>\n",
       "      <td>85</td>\n",
       "      <td>RW</td>\n",
       "    </tr>\n",
       "    <tr>\n",
       "      <th>2</th>\n",
       "      <td>Neymar</td>\n",
       "      <td>Paris Saint-Germain</td>\n",
       "      <td>92</td>\n",
       "      <td>89</td>\n",
       "      <td>21</td>\n",
       "      <td>75</td>\n",
       "      <td>9</td>\n",
       "      <td>80</td>\n",
       "      <td>LW</td>\n",
       "    </tr>\n",
       "    <tr>\n",
       "      <th>3</th>\n",
       "      <td>L. Suárez</td>\n",
       "      <td>FC Barcelona</td>\n",
       "      <td>92</td>\n",
       "      <td>94</td>\n",
       "      <td>30</td>\n",
       "      <td>64</td>\n",
       "      <td>27</td>\n",
       "      <td>87</td>\n",
       "      <td>ST</td>\n",
       "    </tr>\n",
       "    <tr>\n",
       "      <th>5</th>\n",
       "      <td>R. Lewandowski</td>\n",
       "      <td>FC Bayern Munich</td>\n",
       "      <td>91</td>\n",
       "      <td>91</td>\n",
       "      <td>25</td>\n",
       "      <td>65</td>\n",
       "      <td>15</td>\n",
       "      <td>88</td>\n",
       "      <td>ST</td>\n",
       "    </tr>\n",
       "  </tbody>\n",
       "</table>\n",
       "</div>"
      ],
      "text/plain": [
       "                Name                 Club  Overall Finishing Marking  \\\n",
       "0  Cristiano Ronaldo       Real Madrid CF       94        94      22   \n",
       "1           L. Messi         FC Barcelona       93        95      13   \n",
       "2             Neymar  Paris Saint-Germain       92        89      21   \n",
       "3          L. Suárez         FC Barcelona       92        94      30   \n",
       "5     R. Lewandowski     FC Bayern Munich       91        91      25   \n",
       "\n",
       "  Long passing GK diving Shot power Preferred Positions  \n",
       "0           77         7         94                  ST  \n",
       "1           87         6         85                  RW  \n",
       "2           75         9         80                  LW  \n",
       "3           64        27         87                  ST  \n",
       "5           65        15         88                  ST  "
      ]
     },
     "execution_count": 6,
     "metadata": {},
     "output_type": "execute_result"
    }
   ],
   "source": [
    "import pandas as pd\n",
    "df = pd.read_csv('CompleteDataset.csv')\n",
    "df = df.dropna()\n",
    "df= df[[\"Name\",\"Club\",\"Overall\",\"Finishing\",\"Marking\",\"Long passing\",\"GK diving\",\"Shot power\",\"Preferred Positions\"]]\n",
    "df[\"Preferred Positions\"]= df[\"Preferred Positions\"].str.split(\" \",n = 1, expand= True)\n",
    "df[\"Finishing\"]=df.Finishing.str.split(\"+\",expand=True)\n",
    "df[\"Finishing\"]=df.Finishing.str.split(\"-\",expand=True)\n",
    "df[\"Marking\"]=df.Marking.str.split(\"+\",expand=True)\n",
    "df[\"Marking\"]=df.Marking.str.split(\"-\",expand=True)\n",
    "df[\"Long passing\"]=df[\"Long passing\"].str.split(\"+\",expand=True)\n",
    "df[\"Long passing\"]=df[\"Long passing\"].str.split(\"-\",expand=True)\n",
    "df[\"GK diving\"]=df[\"GK diving\"].str.split(\"+\",expand=True)\n",
    "df[\"GK diving\"]=df[\"GK diving\"].str.split(\"-\",expand=True)\n",
    "df[\"Shot power\"]=df[\"Shot power\"].str.split(\"+\",expand=True)\n",
    "df[\"Shot power\"]=df[\"Shot power\"].str.split(\"-\",expand=True)\n",
    "\n",
    "df.head()"
   ]
  },
  {
   "cell_type": "markdown",
   "metadata": {},
   "source": [
    "###### Stap 2: Data opsplitsen in trainingset en testset \n",
    "De data wordt opgeslagen in twee variabelen zodat ik dit kan gebruiken om het op te delen in een traningset en een testset "
   ]
  },
  {
   "cell_type": "code",
   "execution_count": 7,
   "metadata": {
    "scrolled": true
   },
   "outputs": [],
   "source": [
    "from sklearn.model_selection import train_test_split\n",
    "X= df.loc[:, \"Overall\":\"Shot power\"]\n",
    "y= df[\"Preferred Positions\"]\n",
    "X_train, X_test, y_train, y_test = train_test_split(X, y, test_size=0.3, random_state=1)"
   ]
  },
  {
   "cell_type": "markdown",
   "metadata": {},
   "source": [
    "###### Stap 3: Algorythme trianen \n",
    "Ik ga het algorythme random forest gebruiken omdat ik hier mee wil oefenen. Het werkt zo dat hij verschillende boompjes gebruikt om te kijken welke positie het is. De positie met de meeste stemmen wint en is het volgens het algorythme. "
   ]
  },
  {
   "cell_type": "code",
   "execution_count": 8,
   "metadata": {},
   "outputs": [],
   "source": [
    "from sklearn.ensemble import RandomForestClassifier\n",
    "rf = RandomForestClassifier(random_state=1, n_estimators=100) \n",
    "rf = rf.fit(X_train, y_train)"
   ]
  },
  {
   "cell_type": "code",
   "execution_count": 9,
   "metadata": {},
   "outputs": [
    {
     "data": {
      "text/plain": [
       "0.40939881456392885"
      ]
     },
     "execution_count": 9,
     "metadata": {},
     "output_type": "execute_result"
    }
   ],
   "source": [
    "rf.score(X_test,y_test)"
   ]
  },
  {
   "cell_type": "markdown",
   "metadata": {},
   "source": [
    "###### Stap 3: Evaluate the model\n",
    "\n",
    "Let's evaluate the model using our standard approach for a classification problem: making a confusion matrix and calculating accuracy, precision and recall.\n",
    "\n",
    "The confusion matrix uses the sorted labels, so 0 comes first, 1 second."
   ]
  },
  {
   "cell_type": "code",
   "execution_count": 10,
   "metadata": {},
   "outputs": [
    {
     "data": {
      "text/plain": [
       "array(['CAM', 'CB', 'CDM', 'CF', 'CM', 'LB', 'LM', 'LW', 'LWB', 'RB',\n",
       "       'RM', 'RW', 'RWB', 'ST'], dtype=object)"
      ]
     },
     "execution_count": 10,
     "metadata": {},
     "output_type": "execute_result"
    }
   ],
   "source": [
    "\n",
    "rf.classes_"
   ]
  },
  {
   "cell_type": "code",
   "execution_count": 13,
   "metadata": {},
   "outputs": [
    {
     "data": {
      "text/plain": [
       "array([[ 76,   0,  30,   2, 101,   1,  44,   5,   0,   1,  41,   3,   0,\n",
       "         63],\n",
       "       [  1, 582,  28,   0,  31,  48,   3,   0,   1,  53,   1,   0,   0,\n",
       "          1],\n",
       "       [ 13,  83, 108,   1, 140,  35,   6,   0,   0,  23,   5,   0,   0,\n",
       "          0],\n",
       "       [  7,   0,   3,   6,   4,   0,  10,   0,   0,   0,   8,   1,   0,\n",
       "         22],\n",
       "       [ 41,  47, 106,   0, 290,  21,  18,   1,   2,  13,  24,   0,   0,\n",
       "          3],\n",
       "       [  3, 177,  26,   0,  54,  85,  13,   0,   2,  41,   8,   0,   0,\n",
       "          1],\n",
       "       [ 38,  21,  18,   0,  63,  21,  78,   4,   0,  15,  56,   2,   0,\n",
       "         78],\n",
       "       [ 10,   0,   0,   1,   7,   3,  21,   7,   0,   1,  20,   3,   0,\n",
       "         42],\n",
       "       [  1,   8,   2,   0,   7,   3,   0,   0,   1,   6,   2,   0,   0,\n",
       "          1],\n",
       "       [  6, 147,  19,   0,  32,  66,   4,   1,   0,  49,  13,   0,   1,\n",
       "          0],\n",
       "       [ 42,  11,  19,   1,  71,  17,  74,   1,   0,  13,  67,   3,   0,\n",
       "         81],\n",
       "       [ 10,   3,   1,   0,  11,   3,  27,   4,   0,   0,  22,   3,   0,\n",
       "         57],\n",
       "       [  3,  12,   1,   0,   7,   3,   0,   0,   0,   4,   2,   0,   0,\n",
       "          0],\n",
       "       [ 21,   0,   0,   2,  14,   3,  33,   6,   0,   1,  40,   4,   0,\n",
       "        582]], dtype=int64)"
      ]
     },
     "execution_count": 13,
     "metadata": {},
     "output_type": "execute_result"
    }
   ],
   "source": [
    "from sklearn.metrics import confusion_matrix\n",
    "y_pred = rf.predict(X_test) \n",
    "cm = confusion_matrix(y_test, y_pred)\n"
   ]
  },
  {
   "cell_type": "code",
   "execution_count": null,
   "metadata": {},
   "outputs": [],
   "source": []
  }
 ],
 "metadata": {
  "kernelspec": {
   "display_name": "Python 3",
   "language": "python",
   "name": "python3"
  },
  "language_info": {
   "codemirror_mode": {
    "name": "ipython",
    "version": 3
   },
   "file_extension": ".py",
   "mimetype": "text/x-python",
   "name": "python",
   "nbconvert_exporter": "python",
   "pygments_lexer": "ipython3",
   "version": "3.8.5"
  }
 },
 "nbformat": 4,
 "nbformat_minor": 4
}
